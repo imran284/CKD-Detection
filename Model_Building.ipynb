{
  "nbformat": 4,
  "nbformat_minor": 0,
  "metadata": {
    "colab": {
      "name": "Model Building",
      "provenance": []
    },
    "kernelspec": {
      "name": "python3",
      "display_name": "Python 3"
    }
  },
  "cells": [
    {
      "cell_type": "code",
      "metadata": {
        "colab": {
          "base_uri": "https://localhost:8080/"
        },
        "id": "2Btkc5PB2GKE",
        "outputId": "b1ef364f-5da6-42d1-cb02-d8f34fc08103"
      },
      "source": [
        "from google.colab import drive\n",
        "drive.mount('/content/drive')"
      ],
      "execution_count": null,
      "outputs": [
        {
          "output_type": "stream",
          "text": [
            "Mounted at /content/drive\n"
          ],
          "name": "stdout"
        }
      ]
    },
    {
      "cell_type": "code",
      "metadata": {
        "colab": {
          "base_uri": "https://localhost:8080/"
        },
        "id": "R0UXf--v2VXY",
        "outputId": "06ee2ff5-8748-46b7-d937-46cf5319da6e"
      },
      "source": [
        "# import all necessary libries\n",
        "import pandas as pd\n",
        "import numpy as np\n",
        "import matplotlib.pyplot as plt\n",
        "import seaborn as sns\n",
        "from sklearn.model_selection import train_test_split\n",
        "from sklearn.linear_model import LogisticRegression\n",
        "from sklearn.ensemble import RandomForestClassifier\n",
        "from sklearn.svm import SVC\n",
        "from sklearn.tree import DecisionTreeClassifier \n",
        "import xgboost as xgb\n",
        "from xgboost import XGBClassifier\n",
        "from sklearn.metrics import plot_confusion_matrix\n",
        "from sklearn.metrics import precision_recall_curve, auc, roc_curve\n",
        "import math\n",
        "from sklearn.metrics import normalized_mutual_info_score\n",
        "from sklearn.metrics import confusion_matrix\n",
        "from sklearn.metrics import f1_score,precision_score,recall_score\n",
        "\n",
        "from sklearn.metrics.classification import accuracy_score, log_loss"
      ],
      "execution_count": null,
      "outputs": [
        {
          "output_type": "stream",
          "text": [
            "/usr/local/lib/python3.7/dist-packages/sklearn/utils/deprecation.py:144: FutureWarning: The sklearn.metrics.classification module is  deprecated in version 0.22 and will be removed in version 0.24. The corresponding classes / functions should instead be imported from sklearn.metrics. Anything that cannot be imported from sklearn.metrics is now part of the private API.\n",
            "  warnings.warn(message, FutureWarning)\n"
          ],
          "name": "stderr"
        }
      ]
    },
    {
      "cell_type": "code",
      "metadata": {
        "colab": {
          "base_uri": "https://localhost:8080/"
        },
        "id": "0M4k0aLm2bkt",
        "outputId": "e39bf693-1ffe-42a2-dfb6-ca19b1695e98"
      },
      "source": [
        "df = pd.read_csv('/content/drive/MyDrive/ckd_with_Tonmoi/Dataset/ckd_final_dataset.csv')\n",
        "df.shape"
      ],
      "execution_count": null,
      "outputs": [
        {
          "output_type": "execute_result",
          "data": {
            "text/plain": [
              "(400, 26)"
            ]
          },
          "metadata": {},
          "execution_count": 3
        }
      ]
    },
    {
      "cell_type": "code",
      "metadata": {
        "colab": {
          "base_uri": "https://localhost:8080/"
        },
        "id": "sC_GXaZd2jGj",
        "outputId": "bd31b10a-adff-4617-cc73-0f002ef8d4ea"
      },
      "source": [
        "df.isnull().sum()"
      ],
      "execution_count": null,
      "outputs": [
        {
          "output_type": "execute_result",
          "data": {
            "text/plain": [
              "id                         0\n",
              "age                        0\n",
              "blood pressure             0\n",
              "specific gravity           0\n",
              "albumin                    0\n",
              "sugar                      0\n",
              "red blood cells            0\n",
              "pus cell                   0\n",
              "pus cell clumps            0\n",
              "bacteria                   0\n",
              "blood glucose random       0\n",
              "blood urea                 0\n",
              "serum creatinine           0\n",
              "sodium                     0\n",
              "potassium                  0\n",
              "hemoglobin                 0\n",
              "packed cell volume         0\n",
              "white blood cell count     0\n",
              "red blood cell count       0\n",
              "hypertension               0\n",
              "diabetes mellitus          0\n",
              "coronary artery disease    0\n",
              "appetite                   0\n",
              "pedal edema                0\n",
              "anemia                     0\n",
              "class                      0\n",
              "dtype: int64"
            ]
          },
          "metadata": {},
          "execution_count": 4
        }
      ]
    },
    {
      "cell_type": "code",
      "metadata": {
        "id": "HQ9n2FvH2xJp"
      },
      "source": [
        "df.drop(['id'], axis = 1,inplace=True) "
      ],
      "execution_count": null,
      "outputs": []
    },
    {
      "cell_type": "code",
      "metadata": {
        "colab": {
          "base_uri": "https://localhost:8080/",
          "height": 275
        },
        "id": "cK3WXh8H3HiE",
        "outputId": "800344fd-8368-4096-8942-69688ef24d3b"
      },
      "source": [
        "df.head()"
      ],
      "execution_count": null,
      "outputs": [
        {
          "output_type": "execute_result",
          "data": {
            "text/html": [
              "<div>\n",
              "<style scoped>\n",
              "    .dataframe tbody tr th:only-of-type {\n",
              "        vertical-align: middle;\n",
              "    }\n",
              "\n",
              "    .dataframe tbody tr th {\n",
              "        vertical-align: top;\n",
              "    }\n",
              "\n",
              "    .dataframe thead th {\n",
              "        text-align: right;\n",
              "    }\n",
              "</style>\n",
              "<table border=\"1\" class=\"dataframe\">\n",
              "  <thead>\n",
              "    <tr style=\"text-align: right;\">\n",
              "      <th></th>\n",
              "      <th>age</th>\n",
              "      <th>blood pressure</th>\n",
              "      <th>specific gravity</th>\n",
              "      <th>albumin</th>\n",
              "      <th>sugar</th>\n",
              "      <th>red blood cells</th>\n",
              "      <th>pus cell</th>\n",
              "      <th>pus cell clumps</th>\n",
              "      <th>bacteria</th>\n",
              "      <th>blood glucose random</th>\n",
              "      <th>blood urea</th>\n",
              "      <th>serum creatinine</th>\n",
              "      <th>sodium</th>\n",
              "      <th>potassium</th>\n",
              "      <th>hemoglobin</th>\n",
              "      <th>packed cell volume</th>\n",
              "      <th>white blood cell count</th>\n",
              "      <th>red blood cell count</th>\n",
              "      <th>hypertension</th>\n",
              "      <th>diabetes mellitus</th>\n",
              "      <th>coronary artery disease</th>\n",
              "      <th>appetite</th>\n",
              "      <th>pedal edema</th>\n",
              "      <th>anemia</th>\n",
              "      <th>class</th>\n",
              "    </tr>\n",
              "  </thead>\n",
              "  <tbody>\n",
              "    <tr>\n",
              "      <th>0</th>\n",
              "      <td>48.0</td>\n",
              "      <td>80.0</td>\n",
              "      <td>1.020</td>\n",
              "      <td>1.0</td>\n",
              "      <td>0.0</td>\n",
              "      <td>2</td>\n",
              "      <td>1</td>\n",
              "      <td>0</td>\n",
              "      <td>0</td>\n",
              "      <td>121.0</td>\n",
              "      <td>36.0</td>\n",
              "      <td>1.2</td>\n",
              "      <td>138.0</td>\n",
              "      <td>4.4</td>\n",
              "      <td>15.4</td>\n",
              "      <td>44.0</td>\n",
              "      <td>7800.0</td>\n",
              "      <td>5.2</td>\n",
              "      <td>1</td>\n",
              "      <td>1</td>\n",
              "      <td>0</td>\n",
              "      <td>0</td>\n",
              "      <td>0</td>\n",
              "      <td>0</td>\n",
              "      <td>0</td>\n",
              "    </tr>\n",
              "    <tr>\n",
              "      <th>1</th>\n",
              "      <td>7.0</td>\n",
              "      <td>50.0</td>\n",
              "      <td>1.020</td>\n",
              "      <td>4.0</td>\n",
              "      <td>0.0</td>\n",
              "      <td>2</td>\n",
              "      <td>1</td>\n",
              "      <td>0</td>\n",
              "      <td>0</td>\n",
              "      <td>121.0</td>\n",
              "      <td>18.0</td>\n",
              "      <td>0.8</td>\n",
              "      <td>138.0</td>\n",
              "      <td>4.4</td>\n",
              "      <td>11.3</td>\n",
              "      <td>38.0</td>\n",
              "      <td>6000.0</td>\n",
              "      <td>4.8</td>\n",
              "      <td>0</td>\n",
              "      <td>0</td>\n",
              "      <td>0</td>\n",
              "      <td>0</td>\n",
              "      <td>0</td>\n",
              "      <td>0</td>\n",
              "      <td>0</td>\n",
              "    </tr>\n",
              "    <tr>\n",
              "      <th>2</th>\n",
              "      <td>62.0</td>\n",
              "      <td>80.0</td>\n",
              "      <td>1.010</td>\n",
              "      <td>2.0</td>\n",
              "      <td>3.0</td>\n",
              "      <td>1</td>\n",
              "      <td>1</td>\n",
              "      <td>0</td>\n",
              "      <td>0</td>\n",
              "      <td>423.0</td>\n",
              "      <td>53.0</td>\n",
              "      <td>1.8</td>\n",
              "      <td>138.0</td>\n",
              "      <td>4.4</td>\n",
              "      <td>9.6</td>\n",
              "      <td>31.0</td>\n",
              "      <td>7500.0</td>\n",
              "      <td>4.8</td>\n",
              "      <td>0</td>\n",
              "      <td>1</td>\n",
              "      <td>0</td>\n",
              "      <td>1</td>\n",
              "      <td>0</td>\n",
              "      <td>1</td>\n",
              "      <td>0</td>\n",
              "    </tr>\n",
              "    <tr>\n",
              "      <th>3</th>\n",
              "      <td>48.0</td>\n",
              "      <td>70.0</td>\n",
              "      <td>1.005</td>\n",
              "      <td>4.0</td>\n",
              "      <td>0.0</td>\n",
              "      <td>1</td>\n",
              "      <td>0</td>\n",
              "      <td>1</td>\n",
              "      <td>0</td>\n",
              "      <td>117.0</td>\n",
              "      <td>56.0</td>\n",
              "      <td>3.8</td>\n",
              "      <td>111.0</td>\n",
              "      <td>2.5</td>\n",
              "      <td>11.2</td>\n",
              "      <td>32.0</td>\n",
              "      <td>6700.0</td>\n",
              "      <td>3.9</td>\n",
              "      <td>1</td>\n",
              "      <td>0</td>\n",
              "      <td>0</td>\n",
              "      <td>1</td>\n",
              "      <td>1</td>\n",
              "      <td>1</td>\n",
              "      <td>0</td>\n",
              "    </tr>\n",
              "    <tr>\n",
              "      <th>4</th>\n",
              "      <td>51.0</td>\n",
              "      <td>80.0</td>\n",
              "      <td>1.010</td>\n",
              "      <td>2.0</td>\n",
              "      <td>0.0</td>\n",
              "      <td>1</td>\n",
              "      <td>1</td>\n",
              "      <td>0</td>\n",
              "      <td>0</td>\n",
              "      <td>106.0</td>\n",
              "      <td>26.0</td>\n",
              "      <td>1.4</td>\n",
              "      <td>138.0</td>\n",
              "      <td>4.4</td>\n",
              "      <td>11.6</td>\n",
              "      <td>35.0</td>\n",
              "      <td>7300.0</td>\n",
              "      <td>4.6</td>\n",
              "      <td>0</td>\n",
              "      <td>0</td>\n",
              "      <td>0</td>\n",
              "      <td>0</td>\n",
              "      <td>0</td>\n",
              "      <td>0</td>\n",
              "      <td>0</td>\n",
              "    </tr>\n",
              "  </tbody>\n",
              "</table>\n",
              "</div>"
            ],
            "text/plain": [
              "    age  blood pressure  specific gravity  ...  pedal edema  anemia  class\n",
              "0  48.0            80.0             1.020  ...            0       0      0\n",
              "1   7.0            50.0             1.020  ...            0       0      0\n",
              "2  62.0            80.0             1.010  ...            0       1      0\n",
              "3  48.0            70.0             1.005  ...            1       1      0\n",
              "4  51.0            80.0             1.010  ...            0       0      0\n",
              "\n",
              "[5 rows x 25 columns]"
            ]
          },
          "metadata": {},
          "execution_count": 6
        }
      ]
    },
    {
      "cell_type": "code",
      "metadata": {
        "id": "WicmZbQT3LkK"
      },
      "source": [
        "X = df.iloc[:, 0:-1].values"
      ],
      "execution_count": null,
      "outputs": []
    },
    {
      "cell_type": "code",
      "metadata": {
        "colab": {
          "base_uri": "https://localhost:8080/"
        },
        "id": "XnFXc5zk5LW2",
        "outputId": "f81303a5-a9d5-4c9c-8233-99baf30b42c1"
      },
      "source": [
        "X"
      ],
      "execution_count": null,
      "outputs": [
        {
          "output_type": "execute_result",
          "data": {
            "text/plain": [
              "array([[48.   , 80.   ,  1.02 , ...,  0.   ,  0.   ,  0.   ],\n",
              "       [ 7.   , 50.   ,  1.02 , ...,  0.   ,  0.   ,  0.   ],\n",
              "       [62.   , 80.   ,  1.01 , ...,  1.   ,  0.   ,  1.   ],\n",
              "       ...,\n",
              "       [12.   , 80.   ,  1.02 , ...,  0.   ,  0.   ,  0.   ],\n",
              "       [17.   , 60.   ,  1.025, ...,  0.   ,  0.   ,  0.   ],\n",
              "       [58.   , 80.   ,  1.025, ...,  0.   ,  0.   ,  0.   ]])"
            ]
          },
          "metadata": {},
          "execution_count": 8
        }
      ]
    },
    {
      "cell_type": "code",
      "metadata": {
        "id": "Q_X3yeqX3qhD"
      },
      "source": [
        "y= df['class']"
      ],
      "execution_count": null,
      "outputs": []
    },
    {
      "cell_type": "code",
      "metadata": {
        "colab": {
          "base_uri": "https://localhost:8080/"
        },
        "id": "viwr7sn63uGK",
        "outputId": "f0c06ea5-7372-415d-a645-dcddfec20451"
      },
      "source": [
        "y"
      ],
      "execution_count": null,
      "outputs": [
        {
          "output_type": "execute_result",
          "data": {
            "text/plain": [
              "0      0\n",
              "1      0\n",
              "2      0\n",
              "3      0\n",
              "4      0\n",
              "      ..\n",
              "395    1\n",
              "396    1\n",
              "397    1\n",
              "398    1\n",
              "399    1\n",
              "Name: class, Length: 400, dtype: int64"
            ]
          },
          "metadata": {
            "tags": []
          },
          "execution_count": 10
        }
      ]
    },
    {
      "cell_type": "code",
      "metadata": {
        "id": "aLdiIIjYEciy"
      },
      "source": [
        "## Scaling Train Data\n",
        "from sklearn.preprocessing import StandardScaler\n",
        "scalar = StandardScaler()"
      ],
      "execution_count": null,
      "outputs": []
    },
    {
      "cell_type": "code",
      "metadata": {
        "id": "1j0wKlLEE3ui"
      },
      "source": [
        "X_scale = scalar.fit_transform(X)"
      ],
      "execution_count": null,
      "outputs": []
    },
    {
      "cell_type": "code",
      "metadata": {
        "colab": {
          "base_uri": "https://localhost:8080/"
        },
        "id": "FPpjadupE9bB",
        "outputId": "a1fe20e0-e29d-4e59-ef47-eee31b59b71c"
      },
      "source": [
        "X_scale"
      ],
      "execution_count": null,
      "outputs": [
        {
          "output_type": "execute_result",
          "data": {
            "text/plain": [
              "array([[-0.21003135,  0.25421378,  0.4214856 , ..., -0.50780078,\n",
              "        -0.4843221 , -0.42008403],\n",
              "       [-2.62723421, -1.97247624,  0.4214856 , ..., -0.50780078,\n",
              "        -0.4843221 , -0.42008403],\n",
              "       [ 0.615355  ,  0.25421378, -1.4210744 , ...,  1.96927621,\n",
              "        -0.4843221 ,  2.38047614],\n",
              "       ...,\n",
              "       [-2.33245337,  0.25421378,  0.4214856 , ..., -0.50780078,\n",
              "        -0.4843221 , -0.42008403],\n",
              "       [-2.03767254, -1.23024623,  1.3427656 , ..., -0.50780078,\n",
              "        -0.4843221 , -0.42008403],\n",
              "       [ 0.37953033,  0.25421378,  1.3427656 , ..., -0.50780078,\n",
              "        -0.4843221 , -0.42008403]])"
            ]
          },
          "metadata": {},
          "execution_count": 12
        }
      ]
    },
    {
      "cell_type": "code",
      "metadata": {
        "id": "ty-w0yH72k1j"
      },
      "source": [
        "# Train - Test Split\n",
        "X_train, X_test, y_train, y_test = train_test_split(X_scale, y, test_size=0.20, random_state=42)"
      ],
      "execution_count": null,
      "outputs": []
    },
    {
      "cell_type": "code",
      "metadata": {
        "colab": {
          "base_uri": "https://localhost:8080/"
        },
        "id": "ZrEIJvsS5RJ_",
        "outputId": "5944f547-28c4-4f1e-89c6-9b422eadf4b1"
      },
      "source": [
        "print('shape of X_trian: ', X_train.shape)\n",
        "print('shape of X_test: ', X_test.shape)\n",
        "print('shape of y_train: ',y_train.shape)\n",
        "print('shape of y_test: ',y_test.shape)"
      ],
      "execution_count": null,
      "outputs": [
        {
          "output_type": "stream",
          "text": [
            "shape of X_trian:  (320, 24)\n",
            "shape of X_test:  (80, 24)\n",
            "shape of y_train:  (320,)\n",
            "shape of y_test:  (80,)\n"
          ],
          "name": "stdout"
        }
      ]
    },
    {
      "cell_type": "markdown",
      "metadata": {
        "id": "nbeFfJes6G8P"
      },
      "source": [
        "### Applying Naive Bayes"
      ]
    },
    {
      "cell_type": "code",
      "metadata": {
        "colab": {
          "base_uri": "https://localhost:8080/"
        },
        "id": "92123cac5q7W",
        "outputId": "e3cd4456-4f7e-4c1a-c0b0-0b0c3b5c4915"
      },
      "source": [
        "#Import Gaussian Naive Bayes model\n",
        "from sklearn.naive_bayes import GaussianNB\n",
        "from sklearn.metrics import accuracy_score\n",
        "nb = GaussianNB()\n",
        "nb.fit(X_train,y_train)\n",
        "nb_predict = nb.predict(X_test) \n",
        "probability = nb.predict_proba(X_test)\n",
        "print('Log loss for NB: ', log_loss(y_test,probability))\n",
        "print('Simple Accuracy of NB : ', nb.score(X_test,y_test))\n",
        "print('Precision score for NB: ', precision_score(y_test, nb_predict))\n",
        "print('Recall score for NB : ', recall_score(y_test, nb_predict))\n",
        "print('f1 score for NB : ', f1_score(y_test, nb_predict))"
      ],
      "execution_count": null,
      "outputs": [
        {
          "output_type": "stream",
          "text": [
            "Log loss for NB:  0.43173470493638444\n",
            "Simple Accuracy of NB :  0.9875\n",
            "Precision score for NB:  0.9655172413793104\n",
            "Recall score for NB :  1.0\n",
            "f1 score for NB :  0.9824561403508771\n"
          ],
          "name": "stdout"
        }
      ]
    },
    {
      "cell_type": "markdown",
      "metadata": {
        "id": "6g0bmKt98Gzf"
      },
      "source": [
        "# Applying KNN"
      ]
    },
    {
      "cell_type": "code",
      "metadata": {
        "colab": {
          "base_uri": "https://localhost:8080/"
        },
        "id": "3m-SygdA8E8t",
        "outputId": "d6e2e501-ed93-4aca-d3b8-931f9fe14e2f"
      },
      "source": [
        "from sklearn.neighbors import KNeighborsClassifier\n",
        "knn = KNeighborsClassifier(n_neighbors=3)\n",
        "knn.fit(X_train,y_train)\n",
        "knn_predict = knn.predict(X_test) \n",
        "probability = knn.predict_proba(X_test)\n",
        "print('Log loss for knn: ', log_loss(y_test,probability))\n",
        "print('Simple Accuracy of knn : ', knn.score(X_test,y_test))\n",
        "print('Precision score for knn: ', precision_score(y_test, knn_predict))\n",
        "print('Recall score for knn : ', recall_score(y_test, knn_predict))\n",
        "print('f1 score for knn : ', f1_score(y_test, knn_predict))\n"
      ],
      "execution_count": null,
      "outputs": [
        {
          "output_type": "stream",
          "text": [
            "Log loss for knn:  0.45053567239608794\n",
            "Simple Accuracy of knn :  0.975\n",
            "Precision score for knn:  0.9333333333333333\n",
            "Recall score for knn :  1.0\n",
            "f1 score for knn :  0.9655172413793104\n"
          ],
          "name": "stdout"
        }
      ]
    },
    {
      "cell_type": "markdown",
      "metadata": {
        "id": "WVuHf4av9G0v"
      },
      "source": [
        "# Logistic Regression"
      ]
    },
    {
      "cell_type": "code",
      "metadata": {
        "colab": {
          "base_uri": "https://localhost:8080/"
        },
        "id": "e6g9Dh0M7j7v",
        "outputId": "68ce2186-bfe7-4fc0-bdec-ce50b47aa4b7"
      },
      "source": [
        "#LR model with default value and using Bag-of-word\n",
        "from sklearn.linear_model import SGDClassifier\n",
        "from sklearn.calibration import CalibratedClassifierCV\n",
        "\n",
        "clf = SGDClassifier( loss='log', random_state=45)\n",
        "clf.fit(X_train,y_train)\n",
        "sig_clf = CalibratedClassifierCV(clf, method=\"sigmoid\")\n",
        "sig_clf.fit(X_train,y_train)\n",
        "lr_predict = clf.predict(X_test) \n",
        "\n",
        "probability = sig_clf.predict_proba(X_test)\n",
        "print('Log loss for LR: ', log_loss(y_test,probability))\n",
        "print('Simple Accuracy of LR : ', clf.score(X_test,y_test))\n",
        "print('Precision score for LR : ', precision_score(y_test, lr_predict))\n",
        "print('Recall score for LR : ', recall_score(y_test, lr_predict, ))\n",
        "print('f1 score for LR : ', f1_score(y_test, lr_predict))"
      ],
      "execution_count": null,
      "outputs": [
        {
          "output_type": "stream",
          "text": [
            "Log loss for LR:  0.08613095509271196\n",
            "Simple Accuracy of LR :  0.9875\n",
            "Precision score for LR :  0.9655172413793104\n",
            "Recall score for LR :  1.0\n",
            "f1 score for LR :  0.9824561403508771\n"
          ],
          "name": "stdout"
        }
      ]
    },
    {
      "cell_type": "code",
      "metadata": {
        "id": "d1l--TNo9pX9",
        "colab": {
          "base_uri": "https://localhost:8080/"
        },
        "outputId": "5c18d6c3-b643-43cd-a0a9-9da25ed0e581"
      },
      "source": [
        "from sklearn.linear_model import LogisticRegression\n",
        "from sklearn.calibration import CalibratedClassifierCV\n",
        "logreg = LogisticRegression()\n",
        "logreg.fit(X_train,y_train)\n",
        "sig_clf = CalibratedClassifierCV(logreg, method=\"sigmoid\")\n",
        "sig_clf.fit(X_train,y_train)\n",
        "lr_predict = logreg.predict(X_test) \n",
        "\n",
        "probability = sig_clf.predict_proba(X_test)\n",
        "\n",
        "print('Log loss for LR: ', log_loss(y_test,probability))\n",
        "print('Simple Accuracy of LR : ', logreg.score(X_test,y_test))\n",
        "print('Precision score for LR : ', precision_score(y_test, lr_predict))\n",
        "print('Recall score for LR : ', recall_score(y_test, lr_predict, ))\n",
        "print('f1 score for LR : ', f1_score(y_test, lr_predict))"
      ],
      "execution_count": null,
      "outputs": [
        {
          "output_type": "stream",
          "text": [
            "Log loss for LR:  0.07654200189068319\n",
            "Simple Accuracy of LR :  0.9875\n",
            "Precision score for LR :  0.9655172413793104\n",
            "Recall score for LR :  1.0\n",
            "f1 score for LR :  0.9824561403508771\n"
          ],
          "name": "stdout"
        }
      ]
    },
    {
      "cell_type": "markdown",
      "metadata": {
        "id": "SsMYyrBS_88W"
      },
      "source": [
        "## Applying SVM"
      ]
    },
    {
      "cell_type": "code",
      "metadata": {
        "id": "Lp29UXE1-PwF",
        "colab": {
          "base_uri": "https://localhost:8080/"
        },
        "outputId": "0a240f78-07b7-469f-b966-9188aa38a8f8"
      },
      "source": [
        "#LR model with default value and using Bag-of-word\n",
        "from sklearn.linear_model import SGDClassifier\n",
        "from sklearn.calibration import CalibratedClassifierCV\n",
        "\n",
        "svm = SGDClassifier( loss='hinge', random_state=45)\n",
        "svm.fit(X_train,y_train)\n",
        "sig_clf = CalibratedClassifierCV(clf, method=\"sigmoid\")\n",
        "sig_clf.fit(X_train,y_train)\n",
        "svm_predict = clf.predict(X_test) \n",
        "\n",
        "probability = sig_clf.predict_proba(X_test)\n",
        "print('Log loss for LR: ', log_loss(y_test,probability))\n",
        "print('Simple Accuracy of LR : ', svm.score(X_test,y_test))\n",
        "print('Precision score for LR : ', precision_score(y_test, svm_predict))\n",
        "print('Recall score for LR : ', recall_score(y_test, svm_predict, ))\n",
        "print('f1 score for LR : ', f1_score(y_test, svm_predict))"
      ],
      "execution_count": null,
      "outputs": [
        {
          "output_type": "stream",
          "text": [
            "Log loss for LR:  0.08613095509271196\n",
            "Simple Accuracy of LR :  0.9875\n",
            "Precision score for LR :  0.9655172413793104\n",
            "Recall score for LR :  1.0\n",
            "f1 score for LR :  0.9824561403508771\n"
          ],
          "name": "stdout"
        }
      ]
    },
    {
      "cell_type": "markdown",
      "metadata": {
        "id": "HTeREQ4zGNTF"
      },
      "source": [
        "## Applying DT"
      ]
    },
    {
      "cell_type": "code",
      "metadata": {
        "id": "PBnnRwPCBFos",
        "colab": {
          "base_uri": "https://localhost:8080/"
        },
        "outputId": "cc745c53-93b5-464b-a12c-c0efd86040a8"
      },
      "source": [
        "# Decesion Tree \n",
        "dt = DecisionTreeClassifier()\n",
        "dt.fit(X_train,y_train)\n",
        "dt_predict = dt.predict(X_test) \n",
        "probability = dt.predict_proba(X_test)\n",
        "print('Log loss for DT: ', log_loss(y_test,probability))\n",
        "print('Simple Accuracy of DT : ', dt.score(X_test,y_test))\n",
        "print('Precision score for DT : ', precision_score(y_test, dt_predict))\n",
        "print('Recall score for DT : ', recall_score(y_test, dt_predict))\n",
        "print('f1 score for DT : ', f1_score(y_test, dt_predict))"
      ],
      "execution_count": null,
      "outputs": [
        {
          "output_type": "stream",
          "text": [
            "Log loss for DT:  9.992007221626413e-16\n",
            "Simple Accuracy of DT :  1.0\n",
            "Precision score for DT :  1.0\n",
            "Recall score for DT :  1.0\n",
            "f1 score for DT :  1.0\n"
          ],
          "name": "stdout"
        }
      ]
    },
    {
      "cell_type": "markdown",
      "metadata": {
        "id": "cggU5U2lGzWz"
      },
      "source": [
        "## Applying RF"
      ]
    },
    {
      "cell_type": "markdown",
      "metadata": {
        "id": "Ea0koztbGzUv"
      },
      "source": [
        ""
      ]
    },
    {
      "cell_type": "code",
      "metadata": {
        "colab": {
          "base_uri": "https://localhost:8080/"
        },
        "id": "Dbz7vC3SGkSi",
        "outputId": "d53bf94d-be73-4b01-c4a5-7f8e4ea680e2"
      },
      "source": [
        "rf=RandomForestClassifier()\n",
        "rf.fit(X_train,y_train)\n",
        "rf_predict = rf.predict(X_test) \n",
        "probability = rf.predict_proba(X_test)\n",
        "print('Log loss for DT: ', log_loss(y_test,probability))\n",
        "print('Simple Accuracy of DT : ', rf.score(X_test,y_test))\n",
        "print('Precision score for DT : ', precision_score(y_test, rf_predict))\n",
        "print('Recall score for DT : ', recall_score(y_test, rf_predict))\n",
        "print('f1 score for DT : ', f1_score(y_test, rf_predict))"
      ],
      "execution_count": null,
      "outputs": [
        {
          "output_type": "stream",
          "text": [
            "Log loss for DT:  0.028190630444653808\n",
            "Simple Accuracy of DT :  1.0\n",
            "Precision score for DT :  1.0\n",
            "Recall score for DT :  1.0\n",
            "f1 score for DT :  1.0\n"
          ],
          "name": "stdout"
        }
      ]
    },
    {
      "cell_type": "markdown",
      "metadata": {
        "id": "3cZ9hgX4Hqf-"
      },
      "source": [
        "## Applying XGBoost"
      ]
    },
    {
      "cell_type": "code",
      "metadata": {
        "colab": {
          "base_uri": "https://localhost:8080/"
        },
        "id": "UB7wybCeHNKh",
        "outputId": "b10281dd-055c-4fbc-fb8c-9edd88e95c57"
      },
      "source": [
        "# XGBoost\n",
        "xg_boost = XGBClassifier() \n",
        "xg_boost.fit(X_train,y_train)\n",
        "xg_boost_predict = xg_boost.predict(X_test) \n",
        "probability = xg_boost.predict_proba(X_test)\n",
        "print('Log loss for xgboost: ', log_loss(y_test,probability))\n",
        "print('Simple Accuracy of xgboost : ', xg_boost.score(X_test,y_test))\n",
        "print('Precision score for xgboost : ', precision_score(y_test, xg_boost_predict))\n",
        "print('Recall score for xgboost: ', recall_score(y_test, xg_boost_predict))\n",
        "print('f1 score for xgboost : ', f1_score(y_test, xg_boost_predict))"
      ],
      "execution_count": null,
      "outputs": [
        {
          "output_type": "stream",
          "text": [
            "Log loss for xgboost:  0.022686660109320654\n",
            "Simple Accuracy of xgboost :  0.9875\n",
            "Precision score for xgboost :  0.9655172413793104\n",
            "Recall score for xgboost:  1.0\n",
            "f1 score for xgboost :  0.9824561403508771\n"
          ],
          "name": "stdout"
        }
      ]
    },
    {
      "cell_type": "code",
      "metadata": {
        "id": "YIcJqU2FKcWF"
      },
      "source": [
        ""
      ],
      "execution_count": null,
      "outputs": []
    },
    {
      "cell_type": "markdown",
      "metadata": {
        "id": "T_FMlrWIwl4d"
      },
      "source": [
        "# AUC-ROC curve for all models"
      ]
    },
    {
      "cell_type": "code",
      "metadata": {
        "colab": {
          "base_uri": "https://localhost:8080/",
          "height": 231
        },
        "id": "uasrnEXYnTLw",
        "outputId": "00eb320a-3c0c-4f5a-e071-eb6259b9e7a5"
      },
      "source": [
        "from sklearn.metrics import roc_curve\n",
        "\n",
        "# roc curve for models\n",
        "fpr1, tpr1, thresh1 = roc_curve(y_test, lr_predict[:,1], pos_label=1)\n",
        "fpr2, tpr2, thresh2 = roc_curve(y_test, svm_predict[:,1], pos_label=1)\n",
        "fpr3, tpr3, thresh3 = roc_curve(y_test, rf_predict[:,1], pos_label=1)\n",
        "fpr4, tpr4, thresh4 = roc_curve(y_test, nb_predict[:,1], pos_label=1)\n",
        "fpr5, tpr5, thresh5 = roc_curve(y_test, knn_predict[:,1], pos_label=1)\n",
        "fpr6, tpr6, thresh6 = roc_curve(y_test, dt_predict[:,1], pos_label=1)\n",
        "fpr7, tpr7, thresh7 = roc_curve(y_test, xg_boost_predict[:,1], pos_label=1)\n",
        "\n",
        "# roc curve for tpr = fpr \n",
        "random_probs = [0 for i in range(len(y_test))]\n",
        "p_fpr, p_tpr, _ = roc_curve(y_test, random_probs, pos_label=1)"
      ],
      "execution_count": null,
      "outputs": [
        {
          "output_type": "error",
          "ename": "IndexError",
          "evalue": "ignored",
          "traceback": [
            "\u001b[0;31m---------------------------------------------------------------------------\u001b[0m",
            "\u001b[0;31mIndexError\u001b[0m                                Traceback (most recent call last)",
            "\u001b[0;32m<ipython-input-24-0b1f8f5740cc>\u001b[0m in \u001b[0;36m<module>\u001b[0;34m()\u001b[0m\n\u001b[1;32m      2\u001b[0m \u001b[0;34m\u001b[0m\u001b[0m\n\u001b[1;32m      3\u001b[0m \u001b[0;31m# roc curve for models\u001b[0m\u001b[0;34m\u001b[0m\u001b[0;34m\u001b[0m\u001b[0;34m\u001b[0m\u001b[0m\n\u001b[0;32m----> 4\u001b[0;31m \u001b[0mfpr1\u001b[0m\u001b[0;34m,\u001b[0m \u001b[0mtpr1\u001b[0m\u001b[0;34m,\u001b[0m \u001b[0mthresh1\u001b[0m \u001b[0;34m=\u001b[0m \u001b[0mroc_curve\u001b[0m\u001b[0;34m(\u001b[0m\u001b[0my_test\u001b[0m\u001b[0;34m,\u001b[0m \u001b[0mlr_predict\u001b[0m\u001b[0;34m[\u001b[0m\u001b[0;34m:\u001b[0m\u001b[0;34m,\u001b[0m\u001b[0;36m1\u001b[0m\u001b[0;34m]\u001b[0m\u001b[0;34m,\u001b[0m \u001b[0mpos_label\u001b[0m\u001b[0;34m=\u001b[0m\u001b[0;36m1\u001b[0m\u001b[0;34m)\u001b[0m\u001b[0;34m\u001b[0m\u001b[0;34m\u001b[0m\u001b[0m\n\u001b[0m\u001b[1;32m      5\u001b[0m \u001b[0mfpr2\u001b[0m\u001b[0;34m,\u001b[0m \u001b[0mtpr2\u001b[0m\u001b[0;34m,\u001b[0m \u001b[0mthresh2\u001b[0m \u001b[0;34m=\u001b[0m \u001b[0mroc_curve\u001b[0m\u001b[0;34m(\u001b[0m\u001b[0my_test\u001b[0m\u001b[0;34m,\u001b[0m \u001b[0msvm_predict\u001b[0m\u001b[0;34m[\u001b[0m\u001b[0;34m:\u001b[0m\u001b[0;34m,\u001b[0m\u001b[0;36m1\u001b[0m\u001b[0;34m]\u001b[0m\u001b[0;34m,\u001b[0m \u001b[0mpos_label\u001b[0m\u001b[0;34m=\u001b[0m\u001b[0;36m1\u001b[0m\u001b[0;34m)\u001b[0m\u001b[0;34m\u001b[0m\u001b[0;34m\u001b[0m\u001b[0m\n\u001b[1;32m      6\u001b[0m \u001b[0mfpr3\u001b[0m\u001b[0;34m,\u001b[0m \u001b[0mtpr3\u001b[0m\u001b[0;34m,\u001b[0m \u001b[0mthresh3\u001b[0m \u001b[0;34m=\u001b[0m \u001b[0mroc_curve\u001b[0m\u001b[0;34m(\u001b[0m\u001b[0my_test\u001b[0m\u001b[0;34m,\u001b[0m \u001b[0mrf_predict\u001b[0m\u001b[0;34m[\u001b[0m\u001b[0;34m:\u001b[0m\u001b[0;34m,\u001b[0m\u001b[0;36m1\u001b[0m\u001b[0;34m]\u001b[0m\u001b[0;34m,\u001b[0m \u001b[0mpos_label\u001b[0m\u001b[0;34m=\u001b[0m\u001b[0;36m1\u001b[0m\u001b[0;34m)\u001b[0m\u001b[0;34m\u001b[0m\u001b[0;34m\u001b[0m\u001b[0m\n",
            "\u001b[0;31mIndexError\u001b[0m: too many indices for array: array is 1-dimensional, but 2 were indexed"
          ]
        }
      ]
    },
    {
      "cell_type": "code",
      "metadata": {
        "id": "iki8wjVfpTbY"
      },
      "source": [
        "# matplotlib\n",
        "import matplotlib.pyplot as plt\n",
        "plt.style.use('seaborn')\n",
        "\n",
        "# plot roc curves\n",
        "plt.plot(fpr1, tpr1, linestyle='--',color='orange', label='Logistic Regression')\n",
        "plt.plot(fpr2, tpr2, linestyle='--',color='green', label='SVM')\n",
        "plt.plot(fpr3, tpr3, linestyle='--',color='blue', label='Random Forest')\n",
        "plt.plot(fpr4, tpr4, linestyle='--',color='yellow', label='Naive Bayes')\n",
        "plt.plot(fpr5, tpr5, linestyle='--',color='violet', label='KNN')\n",
        "plt.plot(fpr6, tpr6, linestyle='--',color='lime', label='Decision Tree')\n",
        "plt.plot(fpr7, tpr7, linestyle='--',color='aqua', label='Xgboost')\n",
        "plt.plot(p_fpr, p_tpr, linestyle='--', color='red')\n",
        "# title\n",
        "plt.title('ROC curve')\n",
        "# x label\n",
        "plt.xlabel('False Positive Rate')\n",
        "# y label\n",
        "plt.ylabel('True Positive rate')\n",
        "\n",
        "plt.legend(loc='best')\n",
        "plt.savefig('ROC',dpi=300)\n",
        "plt.show();"
      ],
      "execution_count": null,
      "outputs": []
    },
    {
      "cell_type": "code",
      "metadata": {
        "id": "eEwwDDwQp_ql"
      },
      "source": [
        ""
      ],
      "execution_count": null,
      "outputs": []
    },
    {
      "cell_type": "code",
      "metadata": {
        "colab": {
          "base_uri": "https://localhost:8080/",
          "height": 442
        },
        "id": "q-gP_dJmuj7i",
        "outputId": "d6119595-791c-4d65-a967-5c793c021e02"
      },
      "source": [
        "\n",
        "from sklearn.metrics import roc_curve, auc\n",
        "#for logistic regression\n",
        "logistic_fpr, logistic_tpr, threshold = roc_curve(y_test, lr_predict)\n",
        "auc_logistic = auc(logistic_fpr, logistic_tpr)\n",
        "# for svm\n",
        "svm_fpr, svm_tpr, threshold = roc_curve(y_test, svm_predict)\n",
        "auc_svm = auc(svm_fpr, svm_tpr)\n",
        "# for random forest\n",
        "rf_fpr,rf_tpr, threshold = roc_curve(y_test, rf_predict)\n",
        "auc_rf= auc(rf_fpr, rf_tpr)\n",
        "\n",
        "#for naive bases\n",
        "nb_fpr, nb_tpr, threshold = roc_curve(y_test, nb_predict)\n",
        "auc_nb= auc(nb_fpr, nb_tpr)\n",
        "\n",
        "# for decision tree\n",
        "decesiontree_fpr,decesiontree_tpr, threshold = roc_curve(y_test, dt_predict)\n",
        "auc_decesiontree= auc(decesiontree_fpr, decesiontree_tpr)\n",
        "\n",
        "#for KNN\n",
        "knn_fpr, knn_tpr, threshold = roc_curve(y_test, knn_predict)\n",
        "auc_knn= auc(knn_fpr, knn_tpr)\n",
        "\n",
        "#for XGboost\n",
        "xgb_fpr, xgb_tpr, threshold = roc_curve(y_test, xg_boost_predict)\n",
        "auc_xgb= auc(xgb_fpr, xgb_tpr)\n",
        "# roc curve for tpr = fpr \n",
        "random_probs = [0 for i in range(len(y_test))]\n",
        "p_fpr, p_tpr, _ = roc_curve(y_test, random_probs)\n",
        "import seaborn as sns\n",
        "sns.set_theme()\n",
        "plt.figure(figsize=(5, 5), dpi=100)\n",
        "plt.plot(svm_fpr, svm_tpr, linestyle='--', label='SVM')\n",
        "plt.plot(logistic_fpr, logistic_tpr, linestyle='--', label='Logistic Regression')\n",
        "plt.plot(rf_fpr, rf_tpr, linestyle='--', label='Random Forest')\n",
        "plt.plot(nb_fpr, nb_tpr, linestyle='--', label='Naive Bayes')\n",
        "plt.plot(decesiontree_fpr, decesiontree_tpr, linestyle='--', label='Decesion Tree')\n",
        "plt.plot(knn_fpr, knn_tpr, linestyle='--', label='KNN')\n",
        "plt.plot(xgb_fpr, xgb_tpr, linestyle='--', label='XGBoost')\n",
        "plt.plot(p_fpr,p_tpr,linestyle='--',color='red',label='Random guess')\n",
        "#plt.title('Compare Roc curve and Auc for all algorithms')\n",
        "#plt.xlabel('False Positive Rate')\n",
        "#plt.ylabel('True Positive Rate')\n",
        "\n",
        "plt.legend()\n",
        "plt.savefig('ckd_auc.png')\n",
        "plt.show()"
      ],
      "execution_count": null,
      "outputs": [
        {
          "output_type": "display_data",
          "data": {
            "image/png": "[encoded data removed]",
            "text/plain": [
              "<Figure size 500x500 with 1 Axes>"
            ]
          },
          "metadata": {
            "tags": []
          }
        }
      ]
    },
    {
      "cell_type": "markdown",
      "metadata": {
        "id": "OCZI4ePTIH7S"
      },
      "source": [
        "## Applying Deep learning / ANN"
      ]
    },
    {
      "cell_type": "code",
      "metadata": {
        "id": "sza7vzYbINfm"
      },
      "source": [
        "import tensorflow as tf\n",
        "from tensorflow.keras import Sequential\n",
        "from tensorflow.keras.layers import Dense,Activation,Dropout"
      ],
      "execution_count": null,
      "outputs": []
    },
    {
      "cell_type": "code",
      "metadata": {
        "id": "BGdK7Z1tIS4P"
      },
      "source": [
        "model = Sequential()"
      ],
      "execution_count": null,
      "outputs": []
    },
    {
      "cell_type": "code",
      "metadata": {
        "id": "khRrP3pAId3V"
      },
      "source": [
        "model.add(Dense(24, activation='relu',input_dim= X_train.shape[1]))\n",
        "model.add(Dense(1,activation='sigmoid'))"
      ],
      "execution_count": null,
      "outputs": []
    },
    {
      "cell_type": "code",
      "metadata": {
        "colab": {
          "base_uri": "https://localhost:8080/"
        },
        "id": "Y7Im1wO8JFjZ",
        "outputId": "30443e03-0f58-436b-d55f-6768f6522a82"
      },
      "source": [
        "model.summary()"
      ],
      "execution_count": null,
      "outputs": [
        {
          "output_type": "stream",
          "text": [
            "Model: \"sequential\"\n",
            "_________________________________________________________________\n",
            "Layer (type)                 Output Shape              Param #   \n",
            "=================================================================\n",
            "dense (Dense)                (None, 24)                600       \n",
            "_________________________________________________________________\n",
            "dense_1 (Dense)              (None, 1)                 25        \n",
            "=================================================================\n",
            "Total params: 625\n",
            "Trainable params: 625\n",
            "Non-trainable params: 0\n",
            "_________________________________________________________________\n"
          ],
          "name": "stdout"
        }
      ]
    },
    {
      "cell_type": "code",
      "metadata": {
        "id": "LJNp674oJHN4"
      },
      "source": [
        "model.compile(optimizer='Adam',loss='binary_crossentropy',metrics=['accuracy'])"
      ],
      "execution_count": null,
      "outputs": []
    },
    {
      "cell_type": "code",
      "metadata": {
        "colab": {
          "base_uri": "https://localhost:8080/"
        },
        "id": "D3ykNhnQJMTO",
        "outputId": "6588cd05-5c5d-44ba-c1af-ac7654eae303"
      },
      "source": [
        "history = model.fit(X_train,y_train,batch_size=50,epochs=50,verbose=1,validation_split=.1)"
      ],
      "execution_count": null,
      "outputs": [
        {
          "output_type": "stream",
          "text": [
            "Epoch 1/50\n",
            "6/6 [==============================] - 0s 19ms/step - loss: 0.2141 - accuracy: 0.9792 - val_loss: 0.2236 - val_accuracy: 0.9375\n",
            "Epoch 2/50\n",
            "6/6 [==============================] - 0s 9ms/step - loss: 0.2049 - accuracy: 0.9792 - val_loss: 0.2167 - val_accuracy: 0.9375\n",
            "Epoch 3/50\n",
            "6/6 [==============================] - 0s 10ms/step - loss: 0.1965 - accuracy: 0.9826 - val_loss: 0.2101 - val_accuracy: 0.9375\n",
            "Epoch 4/50\n",
            "6/6 [==============================] - 0s 9ms/step - loss: 0.1883 - accuracy: 0.9826 - val_loss: 0.2042 - val_accuracy: 0.9375\n",
            "Epoch 5/50\n",
            "6/6 [==============================] - 0s 10ms/step - loss: 0.1808 - accuracy: 0.9861 - val_loss: 0.1985 - val_accuracy: 0.9375\n",
            "Epoch 6/50\n",
            "6/6 [==============================] - 0s 10ms/step - loss: 0.1737 - accuracy: 0.9861 - val_loss: 0.1931 - val_accuracy: 0.9375\n",
            "Epoch 7/50\n",
            "6/6 [==============================] - 0s 11ms/step - loss: 0.1670 - accuracy: 0.9861 - val_loss: 0.1879 - val_accuracy: 0.9375\n",
            "Epoch 8/50\n",
            "6/6 [==============================] - 0s 10ms/step - loss: 0.1606 - accuracy: 0.9861 - val_loss: 0.1833 - val_accuracy: 0.9375\n",
            "Epoch 9/50\n",
            "6/6 [==============================] - 0s 9ms/step - loss: 0.1546 - accuracy: 0.9861 - val_loss: 0.1788 - val_accuracy: 0.9375\n",
            "Epoch 10/50\n",
            "6/6 [==============================] - 0s 9ms/step - loss: 0.1489 - accuracy: 0.9861 - val_loss: 0.1743 - val_accuracy: 0.9375\n",
            "Epoch 11/50\n",
            "6/6 [==============================] - 0s 9ms/step - loss: 0.1435 - accuracy: 0.9861 - val_loss: 0.1701 - val_accuracy: 0.9375\n",
            "Epoch 12/50\n",
            "6/6 [==============================] - 0s 10ms/step - loss: 0.1382 - accuracy: 0.9861 - val_loss: 0.1662 - val_accuracy: 0.9375\n",
            "Epoch 13/50\n",
            "6/6 [==============================] - 0s 9ms/step - loss: 0.1334 - accuracy: 0.9861 - val_loss: 0.1623 - val_accuracy: 0.9375\n",
            "Epoch 14/50\n",
            "6/6 [==============================] - 0s 11ms/step - loss: 0.1287 - accuracy: 0.9861 - val_loss: 0.1587 - val_accuracy: 0.9375\n",
            "Epoch 15/50\n",
            "6/6 [==============================] - 0s 11ms/step - loss: 0.1241 - accuracy: 0.9861 - val_loss: 0.1554 - val_accuracy: 0.9375\n",
            "Epoch 16/50\n",
            "6/6 [==============================] - 0s 10ms/step - loss: 0.1199 - accuracy: 0.9861 - val_loss: 0.1521 - val_accuracy: 0.9375\n",
            "Epoch 17/50\n",
            "6/6 [==============================] - 0s 10ms/step - loss: 0.1159 - accuracy: 0.9861 - val_loss: 0.1489 - val_accuracy: 0.9375\n",
            "Epoch 18/50\n",
            "6/6 [==============================] - 0s 8ms/step - loss: 0.1119 - accuracy: 0.9861 - val_loss: 0.1459 - val_accuracy: 0.9375\n",
            "Epoch 19/50\n",
            "6/6 [==============================] - 0s 10ms/step - loss: 0.1082 - accuracy: 0.9861 - val_loss: 0.1431 - val_accuracy: 0.9375\n",
            "Epoch 20/50\n",
            "6/6 [==============================] - 0s 10ms/step - loss: 0.1046 - accuracy: 0.9861 - val_loss: 0.1404 - val_accuracy: 0.9375\n",
            "Epoch 21/50\n",
            "6/6 [==============================] - 0s 11ms/step - loss: 0.1013 - accuracy: 0.9861 - val_loss: 0.1377 - val_accuracy: 0.9375\n",
            "Epoch 22/50\n",
            "6/6 [==============================] - 0s 9ms/step - loss: 0.0979 - accuracy: 0.9861 - val_loss: 0.1352 - val_accuracy: 0.9375\n",
            "Epoch 23/50\n",
            "6/6 [==============================] - 0s 10ms/step - loss: 0.0948 - accuracy: 0.9861 - val_loss: 0.1329 - val_accuracy: 0.9375\n",
            "Epoch 24/50\n",
            "6/6 [==============================] - 0s 10ms/step - loss: 0.0919 - accuracy: 0.9861 - val_loss: 0.1304 - val_accuracy: 0.9375\n",
            "Epoch 25/50\n",
            "6/6 [==============================] - 0s 10ms/step - loss: 0.0889 - accuracy: 0.9861 - val_loss: 0.1283 - val_accuracy: 0.9375\n",
            "Epoch 26/50\n",
            "6/6 [==============================] - 0s 12ms/step - loss: 0.0862 - accuracy: 0.9861 - val_loss: 0.1262 - val_accuracy: 0.9688\n",
            "Epoch 27/50\n",
            "6/6 [==============================] - 0s 10ms/step - loss: 0.0837 - accuracy: 0.9896 - val_loss: 0.1240 - val_accuracy: 0.9688\n",
            "Epoch 28/50\n",
            "6/6 [==============================] - 0s 10ms/step - loss: 0.0811 - accuracy: 0.9896 - val_loss: 0.1220 - val_accuracy: 0.9688\n",
            "Epoch 29/50\n",
            "6/6 [==============================] - 0s 10ms/step - loss: 0.0788 - accuracy: 0.9896 - val_loss: 0.1200 - val_accuracy: 0.9688\n",
            "Epoch 30/50\n",
            "6/6 [==============================] - 0s 10ms/step - loss: 0.0765 - accuracy: 0.9896 - val_loss: 0.1181 - val_accuracy: 0.9688\n",
            "Epoch 31/50\n",
            "6/6 [==============================] - 0s 10ms/step - loss: 0.0743 - accuracy: 0.9896 - val_loss: 0.1162 - val_accuracy: 0.9688\n",
            "Epoch 32/50\n",
            "6/6 [==============================] - 0s 12ms/step - loss: 0.0722 - accuracy: 0.9965 - val_loss: 0.1144 - val_accuracy: 0.9688\n",
            "Epoch 33/50\n",
            "6/6 [==============================] - 0s 11ms/step - loss: 0.0702 - accuracy: 0.9965 - val_loss: 0.1126 - val_accuracy: 0.9688\n",
            "Epoch 34/50\n",
            "6/6 [==============================] - 0s 10ms/step - loss: 0.0683 - accuracy: 0.9965 - val_loss: 0.1110 - val_accuracy: 0.9688\n",
            "Epoch 35/50\n",
            "6/6 [==============================] - 0s 11ms/step - loss: 0.0664 - accuracy: 0.9965 - val_loss: 0.1095 - val_accuracy: 0.9688\n",
            "Epoch 36/50\n",
            "6/6 [==============================] - 0s 11ms/step - loss: 0.0646 - accuracy: 0.9965 - val_loss: 0.1080 - val_accuracy: 0.9688\n",
            "Epoch 37/50\n",
            "6/6 [==============================] - 0s 10ms/step - loss: 0.0630 - accuracy: 0.9965 - val_loss: 0.1066 - val_accuracy: 0.9688\n",
            "Epoch 38/50\n",
            "6/6 [==============================] - 0s 10ms/step - loss: 0.0614 - accuracy: 0.9965 - val_loss: 0.1052 - val_accuracy: 0.9688\n",
            "Epoch 39/50\n",
            "6/6 [==============================] - 0s 9ms/step - loss: 0.0597 - accuracy: 0.9965 - val_loss: 0.1040 - val_accuracy: 0.9688\n",
            "Epoch 40/50\n",
            "6/6 [==============================] - 0s 10ms/step - loss: 0.0582 - accuracy: 0.9965 - val_loss: 0.1026 - val_accuracy: 0.9688\n",
            "Epoch 41/50\n",
            "6/6 [==============================] - 0s 12ms/step - loss: 0.0567 - accuracy: 0.9965 - val_loss: 0.1013 - val_accuracy: 0.9688\n",
            "Epoch 42/50\n",
            "6/6 [==============================] - 0s 10ms/step - loss: 0.0553 - accuracy: 0.9965 - val_loss: 0.0999 - val_accuracy: 0.9688\n",
            "Epoch 43/50\n",
            "6/6 [==============================] - 0s 11ms/step - loss: 0.0539 - accuracy: 0.9965 - val_loss: 0.0986 - val_accuracy: 0.9688\n",
            "Epoch 44/50\n",
            "6/6 [==============================] - 0s 10ms/step - loss: 0.0527 - accuracy: 0.9965 - val_loss: 0.0973 - val_accuracy: 0.9688\n",
            "Epoch 45/50\n",
            "6/6 [==============================] - 0s 10ms/step - loss: 0.0513 - accuracy: 0.9965 - val_loss: 0.0962 - val_accuracy: 0.9688\n",
            "Epoch 46/50\n",
            "6/6 [==============================] - 0s 11ms/step - loss: 0.0501 - accuracy: 0.9965 - val_loss: 0.0949 - val_accuracy: 0.9688\n",
            "Epoch 47/50\n",
            "6/6 [==============================] - 0s 11ms/step - loss: 0.0489 - accuracy: 0.9965 - val_loss: 0.0939 - val_accuracy: 0.9688\n",
            "Epoch 48/50\n",
            "6/6 [==============================] - 0s 11ms/step - loss: 0.0477 - accuracy: 0.9965 - val_loss: 0.0928 - val_accuracy: 0.9688\n",
            "Epoch 49/50\n",
            "6/6 [==============================] - 0s 11ms/step - loss: 0.0466 - accuracy: 0.9965 - val_loss: 0.0916 - val_accuracy: 0.9688\n",
            "Epoch 50/50\n",
            "6/6 [==============================] - 0s 10ms/step - loss: 0.0455 - accuracy: 0.9965 - val_loss: 0.0906 - val_accuracy: 0.9688\n"
          ],
          "name": "stdout"
        }
      ]
    },
    {
      "cell_type": "code",
      "metadata": {
        "colab": {
          "base_uri": "https://localhost:8080/"
        },
        "id": "iiZcd1oAJXtv",
        "outputId": "47463d08-3dc6-4c61-d4e9-e2f4f72bfe11"
      },
      "source": [
        "from sklearn.metrics import accuracy_score\n",
        "y_pred = model.predict_classes(X_test)\n",
        "print(f'Accuracy is: {accuracy_score(y_test,y_pred)}')"
      ],
      "execution_count": null,
      "outputs": [
        {
          "output_type": "stream",
          "text": [
            "Accuracy is: 0.975\n"
          ],
          "name": "stdout"
        },
        {
          "output_type": "stream",
          "text": [
            "/usr/local/lib/python3.7/dist-packages/tensorflow/python/keras/engine/sequential.py:450: UserWarning: `model.predict_classes()` is deprecated and will be removed after 2021-01-01. Please use instead:* `np.argmax(model.predict(x), axis=-1)`,   if your model does multi-class classification   (e.g. if it uses a `softmax` last-layer activation).* `(model.predict(x) > 0.5).astype(\"int32\")`,   if your model does binary classification   (e.g. if it uses a `sigmoid` last-layer activation).\n",
            "  warnings.warn('`model.predict_classes()` is deprecated and '\n"
          ],
          "name": "stderr"
        }
      ]
    },
    {
      "cell_type": "code",
      "metadata": {
        "id": "yAigb-F4KsJ6"
      },
      "source": [
        "import matplotlib.pyplot as plt\n",
        "import time\n",
        "\n",
        "def plt_dynamic(x, vy, ty, ax, colors=['b']):\n",
        "    ax.plot(x, vy, 'b', label=\"Validation Loss\")\n",
        "    ax.plot(x, ty, 'r', label=\"Train Loss\")\n",
        "    plt.legend()\n",
        "    plt.grid()\n",
        "    fig.canvas.draw()\n"
      ],
      "execution_count": null,
      "outputs": []
    },
    {
      "cell_type": "code",
      "metadata": {
        "colab": {
          "base_uri": "https://localhost:8080/",
          "height": 296
        },
        "id": "LA5552CXKv8T",
        "outputId": "5c30d6dc-e2c4-4145-9935-41bff558837e"
      },
      "source": [
        "fig,ax = plt.subplots(1,1)\n",
        "ax.set_xlabel('epoch') ; ax.set_ylabel('Binary Crossentropy Loss')\n",
        "\n",
        "\n",
        "x = list(range(1,50+1))\n",
        "\n",
        "print(history.history.keys())\n",
        "\n",
        "vy = history.history['val_loss']\n",
        "ty = history.history['loss']\n",
        "plt_dynamic(x, vy, ty, ax)"
      ],
      "execution_count": null,
      "outputs": [
        {
          "output_type": "stream",
          "text": [
            "dict_keys(['loss', 'accuracy', 'val_loss', 'val_accuracy'])\n"
          ],
          "name": "stdout"
        },
        {
          "output_type": "display_data",
          "data": {
            "image/png": "[encoded data removed]",
            "text/plain": [
              "<Figure size 432x288 with 1 Axes>"
            ]
          },
          "metadata": {
            "tags": [],
            "needs_background": "light"
          }
        }
      ]
    },
    {
      "cell_type": "code",
      "metadata": {
        "colab": {
          "base_uri": "https://localhost:8080/",
          "height": 296
        },
        "id": "KhIpxmx7K6_g",
        "outputId": "89b2cec1-fde6-4c49-9b3c-608b94a52e3a"
      },
      "source": [
        "fig,ax = plt.subplots(1,1)\n",
        "ax.set_xlabel('epoch') ; ax.set_ylabel('Accuracy')\n",
        "\n",
        "\n",
        "x = list(range(1,50+1))\n",
        "\n",
        "print(history.history.keys())\n",
        "\n",
        "\n",
        "vy = history.history['val_accuracy']\n",
        "ty = history.history['accuracy']\n",
        "plt_dynamic(x, vy, ty, ax)"
      ],
      "execution_count": null,
      "outputs": [
        {
          "output_type": "stream",
          "text": [
            "dict_keys(['loss', 'accuracy', 'val_loss', 'val_accuracy'])\n"
          ],
          "name": "stdout"
        },
        {
          "output_type": "display_data",
          "data": {
            "image/png": "[encoded data removed]",
            "text/plain": [
              "<Figure size 432x288 with 1 Axes>"
            ]
          },
          "metadata": {
            "tags": [],
            "needs_background": "light"
          }
        }
      ]
    },
    {
      "cell_type": "code",
      "metadata": {
        "id": "fN4K6FwDLHUi"
      },
      "source": [
        ""
      ],
      "execution_count": null,
      "outputs": []
    }
  ]
}